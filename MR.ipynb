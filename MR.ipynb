{
 "cells": [
  {
   "cell_type": "markdown",
   "metadata": {},
   "source": [
    "## Using the dataset, build a model that can forecast ticket volume"
   ]
  },
  {
   "cell_type": "code",
   "execution_count": 1,
   "metadata": {},
   "outputs": [],
   "source": [
    "# basic packages\n",
    "import numpy as np\n",
    "import pandas as pd\n",
    "import warnings\n",
    "from sklearn.linear_model import LinearRegression, Lasso, Ridge\n",
    "from sklearn.model_selection import train_test_split, cross_val_score\n",
    "import seaborn as sns\n",
    "import matplotlib.pyplot as plt\n",
    "\n",
    "%matplotlib inline\n",
    "#data specific package\n",
    "from pandas.tseries.holiday import USFederalHolidayCalendar\n",
    "\n",
    "warnings.filterwarnings(\n",
    "    action=\"ignore\"\n",
    ")"
   ]
  },
  {
   "cell_type": "code",
   "execution_count": 2,
   "metadata": {},
   "outputs": [],
   "source": [
    "# importing dataset\n",
    "df = pd.read_csv(\"Data/MR_DS.csv\")\n",
    "\n",
    "# data start and end date\n",
    "start_date = '2015-11-24'\n",
    "end_date = '2016-04-21'"
   ]
  },
  {
   "cell_type": "code",
   "execution_count": 3,
   "metadata": {},
   "outputs": [
    {
     "data": {
      "text/html": [
       "<div>\n",
       "<style scoped>\n",
       "    .dataframe tbody tr th:only-of-type {\n",
       "        vertical-align: middle;\n",
       "    }\n",
       "\n",
       "    .dataframe tbody tr th {\n",
       "        vertical-align: top;\n",
       "    }\n",
       "\n",
       "    .dataframe thead th {\n",
       "        text-align: right;\n",
       "    }\n",
       "</style>\n",
       "<table border=\"1\" class=\"dataframe\">\n",
       "  <thead>\n",
       "    <tr style=\"text-align: right;\">\n",
       "      <th></th>\n",
       "      <th>Ticket Created Date</th>\n",
       "      <th>Total Tickets Opened</th>\n",
       "      <th>Subscription Order Count</th>\n",
       "      <th>Non Subscription Order Count</th>\n",
       "      <th>Subscription Customer Count</th>\n",
       "      <th>Non Subscription Customer Count</th>\n",
       "    </tr>\n",
       "  </thead>\n",
       "  <tbody>\n",
       "    <tr>\n",
       "      <th>0</th>\n",
       "      <td>4/21/2016</td>\n",
       "      <td>533</td>\n",
       "      <td>984</td>\n",
       "      <td>507</td>\n",
       "      <td>239</td>\n",
       "      <td>240</td>\n",
       "    </tr>\n",
       "    <tr>\n",
       "      <th>1</th>\n",
       "      <td>4/20/2016</td>\n",
       "      <td>658</td>\n",
       "      <td>6035</td>\n",
       "      <td>485</td>\n",
       "      <td>225</td>\n",
       "      <td>210</td>\n",
       "    </tr>\n",
       "    <tr>\n",
       "      <th>2</th>\n",
       "      <td>4/19/2016</td>\n",
       "      <td>778</td>\n",
       "      <td>2450</td>\n",
       "      <td>500</td>\n",
       "      <td>196</td>\n",
       "      <td>231</td>\n",
       "    </tr>\n",
       "    <tr>\n",
       "      <th>3</th>\n",
       "      <td>4/18/2016</td>\n",
       "      <td>743</td>\n",
       "      <td>2502</td>\n",
       "      <td>527</td>\n",
       "      <td>192</td>\n",
       "      <td>240</td>\n",
       "    </tr>\n",
       "    <tr>\n",
       "      <th>4</th>\n",
       "      <td>4/17/2016</td>\n",
       "      <td>925</td>\n",
       "      <td>3080</td>\n",
       "      <td>488</td>\n",
       "      <td>217</td>\n",
       "      <td>209</td>\n",
       "    </tr>\n",
       "  </tbody>\n",
       "</table>\n",
       "</div>"
      ],
      "text/plain": [
       "  Ticket Created Date  Total Tickets Opened  Subscription Order Count  \\\n",
       "0           4/21/2016                   533                       984   \n",
       "1           4/20/2016                   658                      6035   \n",
       "2           4/19/2016                   778                      2450   \n",
       "3           4/18/2016                   743                      2502   \n",
       "4           4/17/2016                   925                      3080   \n",
       "\n",
       "   Non Subscription Order Count  Subscription Customer Count  \\\n",
       "0                           507                          239   \n",
       "1                           485                          225   \n",
       "2                           500                          196   \n",
       "3                           527                          192   \n",
       "4                           488                          217   \n",
       "\n",
       "   Non Subscription Customer Count  \n",
       "0                              240  \n",
       "1                              210  \n",
       "2                              231  \n",
       "3                              240  \n",
       "4                              209  "
      ]
     },
     "execution_count": 3,
     "metadata": {},
     "output_type": "execute_result"
    }
   ],
   "source": [
    "df.head()"
   ]
  },
  {
   "cell_type": "code",
   "execution_count": 4,
   "metadata": {},
   "outputs": [
    {
     "name": "stdout",
     "output_type": "stream",
     "text": [
      "<class 'pandas.core.frame.DataFrame'>\n",
      "RangeIndex: 150 entries, 0 to 149\n",
      "Data columns (total 6 columns):\n",
      "Ticket Created Date                150 non-null object\n",
      "Total Tickets Opened               150 non-null int64\n",
      "Subscription Order Count           150 non-null int64\n",
      "Non Subscription Order Count       150 non-null int64\n",
      "Subscription Customer Count        150 non-null int64\n",
      "Non Subscription Customer Count    150 non-null int64\n",
      "dtypes: int64(5), object(1)\n",
      "memory usage: 7.1+ KB\n"
     ]
    }
   ],
   "source": [
    "df.info()"
   ]
  },
  {
   "cell_type": "code",
   "execution_count": 5,
   "metadata": {},
   "outputs": [
    {
     "name": "stdout",
     "output_type": "stream",
     "text": [
      "<class 'pandas.core.frame.DataFrame'>\n",
      "RangeIndex: 150 entries, 0 to 149\n",
      "Data columns (total 6 columns):\n",
      "Ticket Created Date                150 non-null datetime64[ns]\n",
      "Total Tickets Opened               150 non-null int64\n",
      "Subscription Order Count           150 non-null int64\n",
      "Non Subscription Order Count       150 non-null int64\n",
      "Subscription Customer Count        150 non-null int64\n",
      "Non Subscription Customer Count    150 non-null int64\n",
      "dtypes: datetime64[ns](1), int64(5)\n",
      "memory usage: 7.1 KB\n"
     ]
    }
   ],
   "source": [
    "# convert date to datetime object to apply transformations\n",
    "df[\"Ticket Created Date\"] = pd.to_datetime(df[\"Ticket Created Date\"])\n",
    "df.info()"
   ]
  },
  {
   "cell_type": "code",
   "execution_count": 6,
   "metadata": {},
   "outputs": [
    {
     "data": {
      "text/plain": [
       "array(['Spring', 'Winter', 'Fall'], dtype=object)"
      ]
     },
     "execution_count": 6,
     "metadata": {},
     "output_type": "execute_result"
    }
   ],
   "source": [
    "# create season feature: winter, spring, summer, fall\n",
    "df[\"Season\"] = \"Winter\"\n",
    "df[\"Season\"][(df[\"Ticket Created Date\"].dt.month > 2) & (df[\"Ticket Created Date\"].dt.month <= 5)]  = \"Spring\"\n",
    "df[\"Season\"][(df[\"Ticket Created Date\"].dt.month > 5) & (df[\"Ticket Created Date\"].dt.month <= 8)]  = \"Summer\"\n",
    "df[\"Season\"][(df[\"Ticket Created Date\"].dt.month > 8) & (df[\"Ticket Created Date\"].dt.month <= 11)]  = \"Fall\"\n",
    "df.Season.unique()"
   ]
  },
  {
   "cell_type": "code",
   "execution_count": 7,
   "metadata": {},
   "outputs": [],
   "source": [
    "# linear model doesn't accept categories, one hot encoding to accommodate\n",
    "one_hot = pd.get_dummies(df[\"Season\"])\n",
    "df = df.drop(\"Season\", axis=1)\n",
    "df = df.join(one_hot)"
   ]
  },
  {
   "cell_type": "code",
   "execution_count": 8,
   "metadata": {},
   "outputs": [
    {
     "data": {
      "text/plain": [
       "[Timestamp('2015-11-26 00:00:00'),\n",
       " Timestamp('2015-12-25 00:00:00'),\n",
       " Timestamp('2016-01-01 00:00:00'),\n",
       " Timestamp('2016-01-18 00:00:00'),\n",
       " Timestamp('2016-02-15 00:00:00')]"
      ]
     },
     "execution_count": 8,
     "metadata": {},
     "output_type": "execute_result"
    }
   ],
   "source": [
    "# create holiday feature\n",
    "cal = USFederalHolidayCalendar()\n",
    "holidays = cal.holidays(start=start_date, end=end_date)\n",
    "df[\"Holiday\"] = np.where(df[\"Ticket Created Date\"].isin(holidays), \"Holiday\", \"Not Holiday\")\n",
    "list(holidays)"
   ]
  },
  {
   "cell_type": "code",
   "execution_count": 9,
   "metadata": {},
   "outputs": [],
   "source": [
    "one_hot = pd.get_dummies(df[\"Holiday\"])\n",
    "df = df.drop(\"Holiday\", axis=1)\n",
    "df = df.join(one_hot)"
   ]
  },
  {
   "cell_type": "code",
   "execution_count": 10,
   "metadata": {},
   "outputs": [
    {
     "data": {
      "text/html": [
       "<div>\n",
       "<style scoped>\n",
       "    .dataframe tbody tr th:only-of-type {\n",
       "        vertical-align: middle;\n",
       "    }\n",
       "\n",
       "    .dataframe tbody tr th {\n",
       "        vertical-align: top;\n",
       "    }\n",
       "\n",
       "    .dataframe thead th {\n",
       "        text-align: right;\n",
       "    }\n",
       "</style>\n",
       "<table border=\"1\" class=\"dataframe\">\n",
       "  <thead>\n",
       "    <tr style=\"text-align: right;\">\n",
       "      <th></th>\n",
       "      <th>Ticket Created Date</th>\n",
       "      <th>Total Tickets Opened</th>\n",
       "      <th>Subscription Order Count</th>\n",
       "      <th>Non Subscription Order Count</th>\n",
       "      <th>Subscription Customer Count</th>\n",
       "      <th>Non Subscription Customer Count</th>\n",
       "      <th>Fall</th>\n",
       "      <th>Spring</th>\n",
       "      <th>Winter</th>\n",
       "      <th>Holiday</th>\n",
       "      <th>Not Holiday</th>\n",
       "      <th>Weekday</th>\n",
       "    </tr>\n",
       "  </thead>\n",
       "  <tbody>\n",
       "    <tr>\n",
       "      <th>0</th>\n",
       "      <td>2016-04-21</td>\n",
       "      <td>533</td>\n",
       "      <td>984</td>\n",
       "      <td>507</td>\n",
       "      <td>239</td>\n",
       "      <td>240</td>\n",
       "      <td>0</td>\n",
       "      <td>1</td>\n",
       "      <td>0</td>\n",
       "      <td>0</td>\n",
       "      <td>1</td>\n",
       "      <td>Weekday</td>\n",
       "    </tr>\n",
       "    <tr>\n",
       "      <th>1</th>\n",
       "      <td>2016-04-20</td>\n",
       "      <td>658</td>\n",
       "      <td>6035</td>\n",
       "      <td>485</td>\n",
       "      <td>225</td>\n",
       "      <td>210</td>\n",
       "      <td>0</td>\n",
       "      <td>1</td>\n",
       "      <td>0</td>\n",
       "      <td>0</td>\n",
       "      <td>1</td>\n",
       "      <td>Weekday</td>\n",
       "    </tr>\n",
       "    <tr>\n",
       "      <th>2</th>\n",
       "      <td>2016-04-19</td>\n",
       "      <td>778</td>\n",
       "      <td>2450</td>\n",
       "      <td>500</td>\n",
       "      <td>196</td>\n",
       "      <td>231</td>\n",
       "      <td>0</td>\n",
       "      <td>1</td>\n",
       "      <td>0</td>\n",
       "      <td>0</td>\n",
       "      <td>1</td>\n",
       "      <td>Weekday</td>\n",
       "    </tr>\n",
       "    <tr>\n",
       "      <th>3</th>\n",
       "      <td>2016-04-18</td>\n",
       "      <td>743</td>\n",
       "      <td>2502</td>\n",
       "      <td>527</td>\n",
       "      <td>192</td>\n",
       "      <td>240</td>\n",
       "      <td>0</td>\n",
       "      <td>1</td>\n",
       "      <td>0</td>\n",
       "      <td>0</td>\n",
       "      <td>1</td>\n",
       "      <td>Weekday</td>\n",
       "    </tr>\n",
       "    <tr>\n",
       "      <th>4</th>\n",
       "      <td>2016-04-17</td>\n",
       "      <td>925</td>\n",
       "      <td>3080</td>\n",
       "      <td>488</td>\n",
       "      <td>217</td>\n",
       "      <td>209</td>\n",
       "      <td>0</td>\n",
       "      <td>1</td>\n",
       "      <td>0</td>\n",
       "      <td>0</td>\n",
       "      <td>1</td>\n",
       "      <td>Weekend</td>\n",
       "    </tr>\n",
       "  </tbody>\n",
       "</table>\n",
       "</div>"
      ],
      "text/plain": [
       "  Ticket Created Date  Total Tickets Opened  Subscription Order Count  \\\n",
       "0          2016-04-21                   533                       984   \n",
       "1          2016-04-20                   658                      6035   \n",
       "2          2016-04-19                   778                      2450   \n",
       "3          2016-04-18                   743                      2502   \n",
       "4          2016-04-17                   925                      3080   \n",
       "\n",
       "   Non Subscription Order Count  Subscription Customer Count  \\\n",
       "0                           507                          239   \n",
       "1                           485                          225   \n",
       "2                           500                          196   \n",
       "3                           527                          192   \n",
       "4                           488                          217   \n",
       "\n",
       "   Non Subscription Customer Count  Fall  Spring  Winter  Holiday  \\\n",
       "0                              240     0       1       0        0   \n",
       "1                              210     0       1       0        0   \n",
       "2                              231     0       1       0        0   \n",
       "3                              240     0       1       0        0   \n",
       "4                              209     0       1       0        0   \n",
       "\n",
       "   Not Holiday  Weekday  \n",
       "0            1  Weekday  \n",
       "1            1  Weekday  \n",
       "2            1  Weekday  \n",
       "3            1  Weekday  \n",
       "4            1  Weekend  "
      ]
     },
     "execution_count": 10,
     "metadata": {},
     "output_type": "execute_result"
    }
   ],
   "source": [
    "# check weekday vs weekend\n",
    "df[\"Weekday\"] = np.where(pd.DatetimeIndex(df[\"Ticket Created Date\"]).weekday < 5, \"Weekday\", \"Weekend\")\n",
    "df.head()"
   ]
  },
  {
   "cell_type": "code",
   "execution_count": 11,
   "metadata": {},
   "outputs": [],
   "source": [
    "one_hot = pd.get_dummies(df[\"Weekday\"])\n",
    "df = df.drop(\"Weekday\", axis=1)\n",
    "df = df.join(one_hot)"
   ]
  },
  {
   "cell_type": "code",
   "execution_count": 12,
   "metadata": {},
   "outputs": [
    {
     "data": {
      "text/plain": [
       "<matplotlib.axes._subplots.AxesSubplot at 0x1c4247a6a90>"
      ]
     },
     "execution_count": 12,
     "metadata": {},
     "output_type": "execute_result"
    },
    {
     "data": {
      "image/png": "[encoded data removed]",
      "text/plain": [
       "<Figure size 432x288 with 2 Axes>"
      ]
     },
     "metadata": {},
     "output_type": "display_data"
    }
   ],
   "source": [
    "# check for correlation\n",
    "sns.heatmap(df.corr(), vmax=0.8)"
   ]
  },
  {
   "cell_type": "code",
   "execution_count": 13,
   "metadata": {},
   "outputs": [
    {
     "data": {
      "text/html": [
       "<div>\n",
       "<style scoped>\n",
       "    .dataframe tbody tr th:only-of-type {\n",
       "        vertical-align: middle;\n",
       "    }\n",
       "\n",
       "    .dataframe tbody tr th {\n",
       "        vertical-align: top;\n",
       "    }\n",
       "\n",
       "    .dataframe thead th {\n",
       "        text-align: right;\n",
       "    }\n",
       "</style>\n",
       "<table border=\"1\" class=\"dataframe\">\n",
       "  <thead>\n",
       "    <tr style=\"text-align: right;\">\n",
       "      <th></th>\n",
       "      <th>Ticket Created Date</th>\n",
       "      <th>Total Tickets Opened</th>\n",
       "      <th>Subscription Order Count</th>\n",
       "      <th>Non Subscription Order Count</th>\n",
       "      <th>Subscription Customer Count</th>\n",
       "      <th>Non Subscription Customer Count</th>\n",
       "      <th>Fall</th>\n",
       "      <th>Spring</th>\n",
       "      <th>Winter</th>\n",
       "      <th>Holiday</th>\n",
       "      <th>Not Holiday</th>\n",
       "      <th>Weekday</th>\n",
       "      <th>Weekend</th>\n",
       "    </tr>\n",
       "  </thead>\n",
       "  <tbody>\n",
       "    <tr>\n",
       "      <th>0</th>\n",
       "      <td>2016-04-21</td>\n",
       "      <td>533</td>\n",
       "      <td>984</td>\n",
       "      <td>507</td>\n",
       "      <td>239</td>\n",
       "      <td>240</td>\n",
       "      <td>0</td>\n",
       "      <td>1</td>\n",
       "      <td>0</td>\n",
       "      <td>0</td>\n",
       "      <td>1</td>\n",
       "      <td>1</td>\n",
       "      <td>0</td>\n",
       "    </tr>\n",
       "    <tr>\n",
       "      <th>1</th>\n",
       "      <td>2016-04-20</td>\n",
       "      <td>658</td>\n",
       "      <td>6035</td>\n",
       "      <td>485</td>\n",
       "      <td>225</td>\n",
       "      <td>210</td>\n",
       "      <td>0</td>\n",
       "      <td>1</td>\n",
       "      <td>0</td>\n",
       "      <td>0</td>\n",
       "      <td>1</td>\n",
       "      <td>1</td>\n",
       "      <td>0</td>\n",
       "    </tr>\n",
       "    <tr>\n",
       "      <th>2</th>\n",
       "      <td>2016-04-19</td>\n",
       "      <td>778</td>\n",
       "      <td>2450</td>\n",
       "      <td>500</td>\n",
       "      <td>196</td>\n",
       "      <td>231</td>\n",
       "      <td>0</td>\n",
       "      <td>1</td>\n",
       "      <td>0</td>\n",
       "      <td>0</td>\n",
       "      <td>1</td>\n",
       "      <td>1</td>\n",
       "      <td>0</td>\n",
       "    </tr>\n",
       "    <tr>\n",
       "      <th>3</th>\n",
       "      <td>2016-04-18</td>\n",
       "      <td>743</td>\n",
       "      <td>2502</td>\n",
       "      <td>527</td>\n",
       "      <td>192</td>\n",
       "      <td>240</td>\n",
       "      <td>0</td>\n",
       "      <td>1</td>\n",
       "      <td>0</td>\n",
       "      <td>0</td>\n",
       "      <td>1</td>\n",
       "      <td>1</td>\n",
       "      <td>0</td>\n",
       "    </tr>\n",
       "    <tr>\n",
       "      <th>4</th>\n",
       "      <td>2016-04-17</td>\n",
       "      <td>925</td>\n",
       "      <td>3080</td>\n",
       "      <td>488</td>\n",
       "      <td>217</td>\n",
       "      <td>209</td>\n",
       "      <td>0</td>\n",
       "      <td>1</td>\n",
       "      <td>0</td>\n",
       "      <td>0</td>\n",
       "      <td>1</td>\n",
       "      <td>0</td>\n",
       "      <td>1</td>\n",
       "    </tr>\n",
       "  </tbody>\n",
       "</table>\n",
       "</div>"
      ],
      "text/plain": [
       "  Ticket Created Date  Total Tickets Opened  Subscription Order Count  \\\n",
       "0          2016-04-21                   533                       984   \n",
       "1          2016-04-20                   658                      6035   \n",
       "2          2016-04-19                   778                      2450   \n",
       "3          2016-04-18                   743                      2502   \n",
       "4          2016-04-17                   925                      3080   \n",
       "\n",
       "   Non Subscription Order Count  Subscription Customer Count  \\\n",
       "0                           507                          239   \n",
       "1                           485                          225   \n",
       "2                           500                          196   \n",
       "3                           527                          192   \n",
       "4                           488                          217   \n",
       "\n",
       "   Non Subscription Customer Count  Fall  Spring  Winter  Holiday  \\\n",
       "0                              240     0       1       0        0   \n",
       "1                              210     0       1       0        0   \n",
       "2                              231     0       1       0        0   \n",
       "3                              240     0       1       0        0   \n",
       "4                              209     0       1       0        0   \n",
       "\n",
       "   Not Holiday  Weekday  Weekend  \n",
       "0            1        1        0  \n",
       "1            1        1        0  \n",
       "2            1        1        0  \n",
       "3            1        1        0  \n",
       "4            1        0        1  "
      ]
     },
     "execution_count": 13,
     "metadata": {},
     "output_type": "execute_result"
    }
   ],
   "source": [
    "df.head()"
   ]
  },
  {
   "cell_type": "code",
   "execution_count": 14,
   "metadata": {},
   "outputs": [
    {
     "name": "stdout",
     "output_type": "stream",
     "text": [
      "\n",
      "Coefficients: \n",
      " [ 4.65204459e-02  2.56657856e-01 -5.09203822e-01  3.62870671e-01\n",
      "  1.02781154e+02 -8.54118236e+01 -1.73693303e+01 -1.98107015e+01\n",
      "  1.98107015e+01 -1.02428914e+02  1.02428914e+02]\n",
      "\n",
      "Intercept: \n",
      " 524.4623669323965\n",
      "\n",
      "Accuracy:\n",
      " 0.5956257883925662\n"
     ]
    }
   ],
   "source": [
    "# original algorithm without any reduction\n",
    "rgr = LinearRegression()\n",
    "Y = df[\"Total Tickets Opened\"]\n",
    "X = df.iloc[:, 2:]\n",
    "\n",
    "# splitting dataset into training data and testing data to validate model using holdout groups\n",
    "X_train, X_test, Y_train, Y_test = train_test_split(X, Y, test_size=0.3)\n",
    "\n",
    "rgr.fit(X_train, Y_train)\n",
    "\n",
    "print('\\nCoefficients: \\n', rgr.coef_)\n",
    "print('\\nIntercept: \\n', rgr.intercept_)\n",
    "print('\\nAccuracy:\\n', rgr.score(X_train, Y_train))"
   ]
  },
  {
   "cell_type": "code",
   "execution_count": 15,
   "metadata": {},
   "outputs": [
    {
     "name": "stdout",
     "output_type": "stream",
     "text": [
      "\n",
      "Cross Validation of test data:\n",
      " [ 0.17202692 -0.01897535 -2.24802835]\n"
     ]
    }
   ],
   "source": [
    "print('\\nCross Validation of test data:\\n',cross_val_score(rgr, X_test, Y_test, cv=3))"
   ]
  },
  {
   "cell_type": "code",
   "execution_count": 16,
   "metadata": {},
   "outputs": [
    {
     "name": "stdout",
     "output_type": "stream",
     "text": [
      "\n",
      "Coefficients: \n",
      " [ 5.75344441e-02  5.15637313e-02  1.18501545e+02 -1.14270336e+02\n",
      " -4.23120941e+00 -5.31970532e+01 -1.98042196e+02]\n",
      "\n",
      "Intercept: \n",
      " 748.1941755872688\n",
      "\n",
      "Accuracy:\n",
      " 0.5719107169132132\n"
     ]
    }
   ],
   "source": [
    "# try to simplify equation based on correlation heatmap; keeping all seasons\n",
    "X = df[[\"Subscription Order Count\", \"Non Subscription Customer Count\", \"Fall\", \"Spring\", \"Winter\", \"Holiday\", \"Weekday\"]]\n",
    "X_train, X_test, Y_train, Y_test = train_test_split(X, Y, test_size=0.3)\n",
    "rgr.fit(X_train, Y_train)\n",
    "\n",
    "print('\\nCoefficients: \\n', rgr.coef_)\n",
    "print('\\nIntercept: \\n', rgr.intercept_)\n",
    "print('\\nAccuracy:\\n', rgr.score(X_train, Y_train))"
   ]
  },
  {
   "cell_type": "code",
   "execution_count": 17,
   "metadata": {},
   "outputs": [
    {
     "name": "stdout",
     "output_type": "stream",
     "text": [
      "\n",
      "Cross Validation of test data:\n",
      " [ 0.30152545 -0.22659224  0.15079465]\n"
     ]
    }
   ],
   "source": [
    "print('\\nCross Validation of test data:\\n',cross_val_score(rgr, X_test, Y_test, cv=3))"
   ]
  },
  {
   "cell_type": "code",
   "execution_count": 18,
   "metadata": {},
   "outputs": [
    {
     "name": "stdout",
     "output_type": "stream",
     "text": [
      "\n",
      "Coefficients: \n",
      " [ 5.00954304e-02  2.09422937e-01  1.90533888e+02  6.66048841e+01\n",
      " -5.58900946e+01 -2.30563214e+02]\n",
      "\n",
      "Intercept: \n",
      " 667.9440725977466\n",
      "\n",
      "Accuracy:\n",
      " 0.4481376638083804\n"
     ]
    }
   ],
   "source": [
    "# further simplification, although because dataset doesn't include any \"Summer\", may have adverse effects with inclusion of summer data\n",
    "X = df[[\"Subscription Order Count\", \"Non Subscription Customer Count\", \"Fall\", \"Winter\", \"Holiday\", \"Weekday\"]]\n",
    "X_train, X_test, Y_train, Y_test = train_test_split(X, Y, test_size=0.3)\n",
    "rgr.fit(X_train, Y_train)\n",
    "\n",
    "print('\\nCoefficients: \\n', rgr.coef_)\n",
    "print('\\nIntercept: \\n', rgr.intercept_)\n",
    "print('\\nAccuracy:\\n', rgr.score(X_train, Y_train))"
   ]
  },
  {
   "cell_type": "code",
   "execution_count": 19,
   "metadata": {},
   "outputs": [
    {
     "name": "stdout",
     "output_type": "stream",
     "text": [
      "\n",
      "Cross Validation of test data:\n",
      " [0.27584636 0.09111936 0.7724479 ]\n"
     ]
    }
   ],
   "source": [
    "print('\\nCross Validation of test data:\\n',cross_val_score(rgr, X_test, Y_test, cv=3))"
   ]
  },
  {
   "cell_type": "code",
   "execution_count": 20,
   "metadata": {},
   "outputs": [],
   "source": [
    "# instead of weekday v weekend, check day\n",
    "df = df.drop(['Weekday', 'Weekend'], axis=1)"
   ]
  },
  {
   "cell_type": "code",
   "execution_count": 21,
   "metadata": {},
   "outputs": [],
   "source": [
    "df['Day of Week'] = pd.DatetimeIndex(df[\"Ticket Created Date\"]).weekday\n",
    "df['Day of Week'] = df['Day of Week'].where(df['Day of Week'] != 6, 'Sunday')\n",
    "df['Day of Week'] = df['Day of Week'].where(df['Day of Week'] != 5, 'Saturday')\n",
    "df['Day of Week'] = df['Day of Week'].where(df['Day of Week'] != 4, 'Friday')\n",
    "df['Day of Week'] = df['Day of Week'].where(df['Day of Week'] != 3, 'Thursday')\n",
    "df['Day of Week'] = df['Day of Week'].where(df['Day of Week'] != 2, 'Wednesday')\n",
    "df['Day of Week'] = df['Day of Week'].where(df['Day of Week'] != 1, 'Tuesday')\n",
    "df['Day of Week'] = df['Day of Week'].where(df['Day of Week'] != 0, 'Monday')"
   ]
  },
  {
   "cell_type": "code",
   "execution_count": 22,
   "metadata": {},
   "outputs": [
    {
     "data": {
      "text/html": [
       "<div>\n",
       "<style scoped>\n",
       "    .dataframe tbody tr th:only-of-type {\n",
       "        vertical-align: middle;\n",
       "    }\n",
       "\n",
       "    .dataframe tbody tr th {\n",
       "        vertical-align: top;\n",
       "    }\n",
       "\n",
       "    .dataframe thead th {\n",
       "        text-align: right;\n",
       "    }\n",
       "</style>\n",
       "<table border=\"1\" class=\"dataframe\">\n",
       "  <thead>\n",
       "    <tr style=\"text-align: right;\">\n",
       "      <th></th>\n",
       "      <th>Ticket Created Date</th>\n",
       "      <th>Total Tickets Opened</th>\n",
       "      <th>Subscription Order Count</th>\n",
       "      <th>Non Subscription Order Count</th>\n",
       "      <th>Subscription Customer Count</th>\n",
       "      <th>Non Subscription Customer Count</th>\n",
       "      <th>Fall</th>\n",
       "      <th>Spring</th>\n",
       "      <th>Winter</th>\n",
       "      <th>Holiday</th>\n",
       "      <th>Not Holiday</th>\n",
       "      <th>Friday</th>\n",
       "      <th>Monday</th>\n",
       "      <th>Saturday</th>\n",
       "      <th>Sunday</th>\n",
       "      <th>Thursday</th>\n",
       "      <th>Tuesday</th>\n",
       "      <th>Wednesday</th>\n",
       "    </tr>\n",
       "  </thead>\n",
       "  <tbody>\n",
       "    <tr>\n",
       "      <th>0</th>\n",
       "      <td>2016-04-21</td>\n",
       "      <td>533</td>\n",
       "      <td>984</td>\n",
       "      <td>507</td>\n",
       "      <td>239</td>\n",
       "      <td>240</td>\n",
       "      <td>0</td>\n",
       "      <td>1</td>\n",
       "      <td>0</td>\n",
       "      <td>0</td>\n",
       "      <td>1</td>\n",
       "      <td>0</td>\n",
       "      <td>0</td>\n",
       "      <td>0</td>\n",
       "      <td>0</td>\n",
       "      <td>1</td>\n",
       "      <td>0</td>\n",
       "      <td>0</td>\n",
       "    </tr>\n",
       "    <tr>\n",
       "      <th>1</th>\n",
       "      <td>2016-04-20</td>\n",
       "      <td>658</td>\n",
       "      <td>6035</td>\n",
       "      <td>485</td>\n",
       "      <td>225</td>\n",
       "      <td>210</td>\n",
       "      <td>0</td>\n",
       "      <td>1</td>\n",
       "      <td>0</td>\n",
       "      <td>0</td>\n",
       "      <td>1</td>\n",
       "      <td>0</td>\n",
       "      <td>0</td>\n",
       "      <td>0</td>\n",
       "      <td>0</td>\n",
       "      <td>0</td>\n",
       "      <td>0</td>\n",
       "      <td>1</td>\n",
       "    </tr>\n",
       "    <tr>\n",
       "      <th>2</th>\n",
       "      <td>2016-04-19</td>\n",
       "      <td>778</td>\n",
       "      <td>2450</td>\n",
       "      <td>500</td>\n",
       "      <td>196</td>\n",
       "      <td>231</td>\n",
       "      <td>0</td>\n",
       "      <td>1</td>\n",
       "      <td>0</td>\n",
       "      <td>0</td>\n",
       "      <td>1</td>\n",
       "      <td>0</td>\n",
       "      <td>0</td>\n",
       "      <td>0</td>\n",
       "      <td>0</td>\n",
       "      <td>0</td>\n",
       "      <td>1</td>\n",
       "      <td>0</td>\n",
       "    </tr>\n",
       "    <tr>\n",
       "      <th>3</th>\n",
       "      <td>2016-04-18</td>\n",
       "      <td>743</td>\n",
       "      <td>2502</td>\n",
       "      <td>527</td>\n",
       "      <td>192</td>\n",
       "      <td>240</td>\n",
       "      <td>0</td>\n",
       "      <td>1</td>\n",
       "      <td>0</td>\n",
       "      <td>0</td>\n",
       "      <td>1</td>\n",
       "      <td>0</td>\n",
       "      <td>1</td>\n",
       "      <td>0</td>\n",
       "      <td>0</td>\n",
       "      <td>0</td>\n",
       "      <td>0</td>\n",
       "      <td>0</td>\n",
       "    </tr>\n",
       "    <tr>\n",
       "      <th>4</th>\n",
       "      <td>2016-04-17</td>\n",
       "      <td>925</td>\n",
       "      <td>3080</td>\n",
       "      <td>488</td>\n",
       "      <td>217</td>\n",
       "      <td>209</td>\n",
       "      <td>0</td>\n",
       "      <td>1</td>\n",
       "      <td>0</td>\n",
       "      <td>0</td>\n",
       "      <td>1</td>\n",
       "      <td>0</td>\n",
       "      <td>0</td>\n",
       "      <td>0</td>\n",
       "      <td>1</td>\n",
       "      <td>0</td>\n",
       "      <td>0</td>\n",
       "      <td>0</td>\n",
       "    </tr>\n",
       "  </tbody>\n",
       "</table>\n",
       "</div>"
      ],
      "text/plain": [
       "  Ticket Created Date  Total Tickets Opened  Subscription Order Count  \\\n",
       "0          2016-04-21                   533                       984   \n",
       "1          2016-04-20                   658                      6035   \n",
       "2          2016-04-19                   778                      2450   \n",
       "3          2016-04-18                   743                      2502   \n",
       "4          2016-04-17                   925                      3080   \n",
       "\n",
       "   Non Subscription Order Count  Subscription Customer Count  \\\n",
       "0                           507                          239   \n",
       "1                           485                          225   \n",
       "2                           500                          196   \n",
       "3                           527                          192   \n",
       "4                           488                          217   \n",
       "\n",
       "   Non Subscription Customer Count  Fall  Spring  Winter  Holiday  \\\n",
       "0                              240     0       1       0        0   \n",
       "1                              210     0       1       0        0   \n",
       "2                              231     0       1       0        0   \n",
       "3                              240     0       1       0        0   \n",
       "4                              209     0       1       0        0   \n",
       "\n",
       "   Not Holiday  Friday  Monday  Saturday  Sunday  Thursday  Tuesday  Wednesday  \n",
       "0            1       0       0         0       0         1        0          0  \n",
       "1            1       0       0         0       0         0        0          1  \n",
       "2            1       0       0         0       0         0        1          0  \n",
       "3            1       0       1         0       0         0        0          0  \n",
       "4            1       0       0         0       1         0        0          0  "
      ]
     },
     "execution_count": 22,
     "metadata": {},
     "output_type": "execute_result"
    }
   ],
   "source": [
    "one_hot = pd.get_dummies(df[\"Day of Week\"])\n",
    "df = df.drop(\"Day of Week\", axis=1)\n",
    "df = df.join(one_hot)\n",
    "df.head()"
   ]
  },
  {
   "cell_type": "code",
   "execution_count": 23,
   "metadata": {},
   "outputs": [
    {
     "data": {
      "text/plain": [
       "<matplotlib.axes._subplots.AxesSubplot at 0x1c427892da0>"
      ]
     },
     "execution_count": 23,
     "metadata": {},
     "output_type": "execute_result"
    },
    {
     "data": {
      "image/png": "[encoded data removed]",
      "text/plain": [
       "<Figure size 432x288 with 2 Axes>"
      ]
     },
     "metadata": {},
     "output_type": "display_data"
    }
   ],
   "source": [
    "# check for correlation\n",
    "sns.heatmap(df.corr(), vmax=0.8)"
   ]
  },
  {
   "cell_type": "code",
   "execution_count": 24,
   "metadata": {},
   "outputs": [
    {
     "name": "stdout",
     "output_type": "stream",
     "text": [
      "\n",
      "Coefficients: \n",
      " [ 3.00646450e-02  5.69019037e-01  9.30106489e+01 -8.30374383e+01\n",
      " -9.97321062e+00 -6.05097134e+01  6.81933796e+01  4.89513138e+01\n",
      " -9.94267137e+01 -1.49428153e+02 -1.75989329e+02  1.05955545e+02\n",
      "  2.01743957e+02]\n",
      "\n",
      "Intercept: \n",
      " 526.8663896948987\n",
      "\n",
      "Accuracy:\n",
      " 0.7459122840959693\n"
     ]
    }
   ],
   "source": [
    "X = df[[\"Subscription Order Count\", \"Non Subscription Customer Count\", \"Fall\", \"Spring\", \"Winter\", \"Holiday\", \"Monday\", \"Tuesday\", \"Wednesday\", \"Thursday\", \"Friday\", \"Saturday\", \"Sunday\"]]\n",
    "X_train, X_test, Y_train, Y_test = train_test_split(X, Y, test_size=0.3)\n",
    "rgr.fit(X_train, Y_train)\n",
    "\n",
    "print('\\nCoefficients: \\n', rgr.coef_)\n",
    "print('\\nIntercept: \\n', rgr.intercept_)\n",
    "print('\\nAccuracy:\\n', rgr.score(X_train, Y_train))"
   ]
  },
  {
   "cell_type": "code",
   "execution_count": 25,
   "metadata": {},
   "outputs": [
    {
     "name": "stdout",
     "output_type": "stream",
     "text": [
      "\n",
      "Cross Validation of test data:\n",
      " [ 0.44579978  0.3347209  -0.21205828]\n"
     ]
    }
   ],
   "source": [
    "print('\\nCross Validation of test data:\\n',cross_val_score(rgr, X_test, Y_test, cv=3))"
   ]
  },
  {
   "cell_type": "code",
   "execution_count": 26,
   "metadata": {},
   "outputs": [],
   "source": [
    "# day of week is more accurate than weekday & weekend. keep day of week\n",
    "df.to_csv(\"Data/Modified_MR_DS.csv\")"
   ]
  },
  {
   "cell_type": "code",
   "execution_count": 27,
   "metadata": {},
   "outputs": [
    {
     "name": "stdout",
     "output_type": "stream",
     "text": [
      "\n",
      "Coefficients: \n",
      " [ 4.14797987e-02  6.53391103e-01  7.22537919e+01 -6.42849004e+01\n",
      " -0.00000000e+00 -2.95149898e+01  7.39397823e+00  0.00000000e+00\n",
      " -1.67750657e+02 -1.72068105e+02 -2.04334707e+02  4.73613449e+01\n",
      "  1.40659741e+02]\n",
      "\n",
      "Intercept: \n",
      " 512.8593865305427\n",
      "\n",
      "Accuracy:\n",
      " 0.7419414042222092\n"
     ]
    }
   ],
   "source": [
    "las = Lasso()\n",
    "las.fit(X_train, Y_train)\n",
    "\n",
    "print('\\nCoefficients: \\n', las.coef_)\n",
    "print('\\nIntercept: \\n', las.intercept_)\n",
    "print('\\nAccuracy:\\n', las.score(X_train, Y_train))"
   ]
  },
  {
   "cell_type": "code",
   "execution_count": 28,
   "metadata": {},
   "outputs": [
    {
     "name": "stdout",
     "output_type": "stream",
     "text": [
      "\n",
      "Cross Validation of test data:\n",
      " [ 0.45316209  0.33824633 -0.10542181]\n"
     ]
    }
   ],
   "source": [
    "print('\\nCross Validation of test data:\\n',cross_val_score(las, X_test, Y_test, cv=3))"
   ]
  },
  {
   "cell_type": "code",
   "execution_count": 29,
   "metadata": {},
   "outputs": [
    {
     "name": "stdout",
     "output_type": "stream",
     "text": [
      "\n",
      "Coefficients: \n",
      " [ 4.66526256e-02  6.34684155e-01  7.78519261e+01 -7.30568716e+01\n",
      " -4.79505448e+00 -4.97743821e+01  6.11290292e+01  4.54755149e+01\n",
      " -1.29900692e+02 -1.11954613e+02 -1.42912062e+02  9.62385807e+01\n",
      "  1.81924242e+02]\n",
      "\n",
      "Intercept: \n",
      " 461.47597669240804\n",
      "\n",
      "Accuracy:\n",
      " 0.7423015143590934\n"
     ]
    }
   ],
   "source": [
    "rid = Ridge()\n",
    "rid.fit(X_train, Y_train)\n",
    "\n",
    "print('\\nCoefficients: \\n', rid.coef_)\n",
    "print('\\nIntercept: \\n', rid.intercept_)\n",
    "print('\\nAccuracy:\\n', rid.score(X_train, Y_train))"
   ]
  },
  {
   "cell_type": "code",
   "execution_count": 30,
   "metadata": {},
   "outputs": [
    {
     "name": "stdout",
     "output_type": "stream",
     "text": [
      "\n",
      "Cross Validation of test data:\n",
      " [0.6037622  0.29437425 0.32327458]\n"
     ]
    }
   ],
   "source": [
    "print('\\nCross Validation of test data:\\n',cross_val_score(rid, X_test, Y_test, cv=3))"
   ]
  }
 ],
 "metadata": {
  "kernelspec": {
   "display_name": "Python 3",
   "language": "python",
   "name": "python3"
  },
  "language_info": {
   "codemirror_mode": {
    "name": "ipython",
    "version": 3
   },
   "file_extension": ".py",
   "mimetype": "text/x-python",
   "name": "python",
   "nbconvert_exporter": "python",
   "pygments_lexer": "ipython3",
   "version": "3.6.5"
  }
 },
 "nbformat": 4,
 "nbformat_minor": 2
}
