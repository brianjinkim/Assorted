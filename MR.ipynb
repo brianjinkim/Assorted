{
 "cells": [
  {
   "cell_type": "markdown",
   "metadata": {},
   "source": [
    "## Using the dataset, build a model that can forecast ticket volume"
   ]
  },
  {
   "cell_type": "code",
   "execution_count": 1,
   "metadata": {},
   "outputs": [],
   "source": [
    "# basic packages\n",
    "import numpy as np\n",
    "import pandas as pd\n",
    "import warnings\n",
    "from sklearn.linear_model import LinearRegression\n",
    "import seaborn as sns\n",
    "\n",
    "#data specific package\n",
    "from pandas.tseries.holiday import USFederalHolidayCalendar\n",
    "\n",
    "warnings.filterwarnings(\n",
    "    action=\"ignore\"\n",
    ")"
   ]
  },
  {
   "cell_type": "code",
   "execution_count": 2,
   "metadata": {},
   "outputs": [],
   "source": [
    "# importing dataset\n",
    "df = pd.read_csv(\"Data/MR_DS.csv\")\n",
    "\n",
    "# data start and end date\n",
    "start_date = '2015-11-24'\n",
    "end_date = '2016-04-21'"
   ]
  },
  {
   "cell_type": "code",
   "execution_count": 3,
   "metadata": {},
   "outputs": [
    {
     "data": {
      "text/html": [
       "<div>\n",
       "<style scoped>\n",
       "    .dataframe tbody tr th:only-of-type {\n",
       "        vertical-align: middle;\n",
       "    }\n",
       "\n",
       "    .dataframe tbody tr th {\n",
       "        vertical-align: top;\n",
       "    }\n",
       "\n",
       "    .dataframe thead th {\n",
       "        text-align: right;\n",
       "    }\n",
       "</style>\n",
       "<table border=\"1\" class=\"dataframe\">\n",
       "  <thead>\n",
       "    <tr style=\"text-align: right;\">\n",
       "      <th></th>\n",
       "      <th>Ticket Created Date</th>\n",
       "      <th>Total Tickets Opened</th>\n",
       "      <th>Subscription Order Count</th>\n",
       "      <th>Non Subscription Order Count</th>\n",
       "      <th>Subscription Customer Count</th>\n",
       "      <th>Non Subscription Customer Count</th>\n",
       "    </tr>\n",
       "  </thead>\n",
       "  <tbody>\n",
       "    <tr>\n",
       "      <th>0</th>\n",
       "      <td>4/21/2016</td>\n",
       "      <td>533</td>\n",
       "      <td>984</td>\n",
       "      <td>507</td>\n",
       "      <td>239</td>\n",
       "      <td>240</td>\n",
       "    </tr>\n",
       "    <tr>\n",
       "      <th>1</th>\n",
       "      <td>4/20/2016</td>\n",
       "      <td>658</td>\n",
       "      <td>6035</td>\n",
       "      <td>485</td>\n",
       "      <td>225</td>\n",
       "      <td>210</td>\n",
       "    </tr>\n",
       "    <tr>\n",
       "      <th>2</th>\n",
       "      <td>4/19/2016</td>\n",
       "      <td>778</td>\n",
       "      <td>2450</td>\n",
       "      <td>500</td>\n",
       "      <td>196</td>\n",
       "      <td>231</td>\n",
       "    </tr>\n",
       "    <tr>\n",
       "      <th>3</th>\n",
       "      <td>4/18/2016</td>\n",
       "      <td>743</td>\n",
       "      <td>2502</td>\n",
       "      <td>527</td>\n",
       "      <td>192</td>\n",
       "      <td>240</td>\n",
       "    </tr>\n",
       "    <tr>\n",
       "      <th>4</th>\n",
       "      <td>4/17/2016</td>\n",
       "      <td>925</td>\n",
       "      <td>3080</td>\n",
       "      <td>488</td>\n",
       "      <td>217</td>\n",
       "      <td>209</td>\n",
       "    </tr>\n",
       "  </tbody>\n",
       "</table>\n",
       "</div>"
      ],
      "text/plain": [
       "  Ticket Created Date  Total Tickets Opened  Subscription Order Count  \\\n",
       "0           4/21/2016                   533                       984   \n",
       "1           4/20/2016                   658                      6035   \n",
       "2           4/19/2016                   778                      2450   \n",
       "3           4/18/2016                   743                      2502   \n",
       "4           4/17/2016                   925                      3080   \n",
       "\n",
       "   Non Subscription Order Count  Subscription Customer Count  \\\n",
       "0                           507                          239   \n",
       "1                           485                          225   \n",
       "2                           500                          196   \n",
       "3                           527                          192   \n",
       "4                           488                          217   \n",
       "\n",
       "   Non Subscription Customer Count  \n",
       "0                              240  \n",
       "1                              210  \n",
       "2                              231  \n",
       "3                              240  \n",
       "4                              209  "
      ]
     },
     "execution_count": 3,
     "metadata": {},
     "output_type": "execute_result"
    }
   ],
   "source": [
    "df.head()"
   ]
  },
  {
   "cell_type": "code",
   "execution_count": 4,
   "metadata": {},
   "outputs": [
    {
     "name": "stdout",
     "output_type": "stream",
     "text": [
      "<class 'pandas.core.frame.DataFrame'>\n",
      "RangeIndex: 150 entries, 0 to 149\n",
      "Data columns (total 6 columns):\n",
      "Ticket Created Date                150 non-null object\n",
      "Total Tickets Opened               150 non-null int64\n",
      "Subscription Order Count           150 non-null int64\n",
      "Non Subscription Order Count       150 non-null int64\n",
      "Subscription Customer Count        150 non-null int64\n",
      "Non Subscription Customer Count    150 non-null int64\n",
      "dtypes: int64(5), object(1)\n",
      "memory usage: 7.1+ KB\n"
     ]
    }
   ],
   "source": [
    "df.info()"
   ]
  },
  {
   "cell_type": "code",
   "execution_count": 5,
   "metadata": {},
   "outputs": [
    {
     "name": "stdout",
     "output_type": "stream",
     "text": [
      "<class 'pandas.core.frame.DataFrame'>\n",
      "RangeIndex: 150 entries, 0 to 149\n",
      "Data columns (total 6 columns):\n",
      "Ticket Created Date                150 non-null datetime64[ns]\n",
      "Total Tickets Opened               150 non-null int64\n",
      "Subscription Order Count           150 non-null int64\n",
      "Non Subscription Order Count       150 non-null int64\n",
      "Subscription Customer Count        150 non-null int64\n",
      "Non Subscription Customer Count    150 non-null int64\n",
      "dtypes: datetime64[ns](1), int64(5)\n",
      "memory usage: 7.1 KB\n"
     ]
    }
   ],
   "source": [
    "# convert date to datetime object to apply transformations\n",
    "df[\"Ticket Created Date\"] = pd.to_datetime(df[\"Ticket Created Date\"])\n",
    "df.info()"
   ]
  },
  {
   "cell_type": "code",
   "execution_count": 6,
   "metadata": {},
   "outputs": [
    {
     "data": {
      "text/plain": [
       "array(['Spring', 'Winter', 'Fall'], dtype=object)"
      ]
     },
     "execution_count": 6,
     "metadata": {},
     "output_type": "execute_result"
    }
   ],
   "source": [
    "# create season feature: winter, spring, summer, fall\n",
    "df[\"Season\"] = \"Winter\"\n",
    "df[\"Season\"][(df[\"Ticket Created Date\"].dt.month > 2) & (df[\"Ticket Created Date\"].dt.month <= 5)]  = \"Spring\"\n",
    "df[\"Season\"][(df[\"Ticket Created Date\"].dt.month > 5) & (df[\"Ticket Created Date\"].dt.month <= 8)]  = \"Summer\"\n",
    "df[\"Season\"][(df[\"Ticket Created Date\"].dt.month > 8) & (df[\"Ticket Created Date\"].dt.month <= 11)]  = \"Fall\"\n",
    "df.Season.unique()"
   ]
  },
  {
   "cell_type": "code",
   "execution_count": 7,
   "metadata": {},
   "outputs": [],
   "source": [
    "# linear model doesn't accept categories, one hot encoding to accommodate\n",
    "one_hot = pd.get_dummies(df[\"Season\"])\n",
    "df = df.drop(\"Season\", axis=1)\n",
    "df = df.join(one_hot)"
   ]
  },
  {
   "cell_type": "code",
   "execution_count": 8,
   "metadata": {},
   "outputs": [
    {
     "data": {
      "text/plain": [
       "[Timestamp('2015-11-26 00:00:00'),\n",
       " Timestamp('2015-12-25 00:00:00'),\n",
       " Timestamp('2016-01-01 00:00:00'),\n",
       " Timestamp('2016-01-18 00:00:00'),\n",
       " Timestamp('2016-02-15 00:00:00')]"
      ]
     },
     "execution_count": 8,
     "metadata": {},
     "output_type": "execute_result"
    }
   ],
   "source": [
    "# create holiday feature\n",
    "cal = USFederalHolidayCalendar()\n",
    "holidays = cal.holidays(start=start_date, end=end_date)\n",
    "df[\"Holiday\"] = np.where(df[\"Ticket Created Date\"].isin(holidays), \"Holiday\", \"Not Holiday\")\n",
    "list(holidays)"
   ]
  },
  {
   "cell_type": "code",
   "execution_count": 9,
   "metadata": {},
   "outputs": [],
   "source": [
    "one_hot = pd.get_dummies(df[\"Holiday\"])\n",
    "df = df.drop(\"Holiday\", axis=1)\n",
    "df = df.join(one_hot)"
   ]
  },
  {
   "cell_type": "code",
   "execution_count": 10,
   "metadata": {},
   "outputs": [
    {
     "data": {
      "text/html": [
       "<div>\n",
       "<style scoped>\n",
       "    .dataframe tbody tr th:only-of-type {\n",
       "        vertical-align: middle;\n",
       "    }\n",
       "\n",
       "    .dataframe tbody tr th {\n",
       "        vertical-align: top;\n",
       "    }\n",
       "\n",
       "    .dataframe thead th {\n",
       "        text-align: right;\n",
       "    }\n",
       "</style>\n",
       "<table border=\"1\" class=\"dataframe\">\n",
       "  <thead>\n",
       "    <tr style=\"text-align: right;\">\n",
       "      <th></th>\n",
       "      <th>Ticket Created Date</th>\n",
       "      <th>Total Tickets Opened</th>\n",
       "      <th>Subscription Order Count</th>\n",
       "      <th>Non Subscription Order Count</th>\n",
       "      <th>Subscription Customer Count</th>\n",
       "      <th>Non Subscription Customer Count</th>\n",
       "      <th>Fall</th>\n",
       "      <th>Spring</th>\n",
       "      <th>Winter</th>\n",
       "      <th>Holiday</th>\n",
       "      <th>Not Holiday</th>\n",
       "      <th>Weekday</th>\n",
       "    </tr>\n",
       "  </thead>\n",
       "  <tbody>\n",
       "    <tr>\n",
       "      <th>0</th>\n",
       "      <td>2016-04-21</td>\n",
       "      <td>533</td>\n",
       "      <td>984</td>\n",
       "      <td>507</td>\n",
       "      <td>239</td>\n",
       "      <td>240</td>\n",
       "      <td>0</td>\n",
       "      <td>1</td>\n",
       "      <td>0</td>\n",
       "      <td>0</td>\n",
       "      <td>1</td>\n",
       "      <td>Weekday</td>\n",
       "    </tr>\n",
       "    <tr>\n",
       "      <th>1</th>\n",
       "      <td>2016-04-20</td>\n",
       "      <td>658</td>\n",
       "      <td>6035</td>\n",
       "      <td>485</td>\n",
       "      <td>225</td>\n",
       "      <td>210</td>\n",
       "      <td>0</td>\n",
       "      <td>1</td>\n",
       "      <td>0</td>\n",
       "      <td>0</td>\n",
       "      <td>1</td>\n",
       "      <td>Weekday</td>\n",
       "    </tr>\n",
       "    <tr>\n",
       "      <th>2</th>\n",
       "      <td>2016-04-19</td>\n",
       "      <td>778</td>\n",
       "      <td>2450</td>\n",
       "      <td>500</td>\n",
       "      <td>196</td>\n",
       "      <td>231</td>\n",
       "      <td>0</td>\n",
       "      <td>1</td>\n",
       "      <td>0</td>\n",
       "      <td>0</td>\n",
       "      <td>1</td>\n",
       "      <td>Weekday</td>\n",
       "    </tr>\n",
       "    <tr>\n",
       "      <th>3</th>\n",
       "      <td>2016-04-18</td>\n",
       "      <td>743</td>\n",
       "      <td>2502</td>\n",
       "      <td>527</td>\n",
       "      <td>192</td>\n",
       "      <td>240</td>\n",
       "      <td>0</td>\n",
       "      <td>1</td>\n",
       "      <td>0</td>\n",
       "      <td>0</td>\n",
       "      <td>1</td>\n",
       "      <td>Weekday</td>\n",
       "    </tr>\n",
       "    <tr>\n",
       "      <th>4</th>\n",
       "      <td>2016-04-17</td>\n",
       "      <td>925</td>\n",
       "      <td>3080</td>\n",
       "      <td>488</td>\n",
       "      <td>217</td>\n",
       "      <td>209</td>\n",
       "      <td>0</td>\n",
       "      <td>1</td>\n",
       "      <td>0</td>\n",
       "      <td>0</td>\n",
       "      <td>1</td>\n",
       "      <td>Weekend</td>\n",
       "    </tr>\n",
       "  </tbody>\n",
       "</table>\n",
       "</div>"
      ],
      "text/plain": [
       "  Ticket Created Date  Total Tickets Opened  Subscription Order Count  \\\n",
       "0          2016-04-21                   533                       984   \n",
       "1          2016-04-20                   658                      6035   \n",
       "2          2016-04-19                   778                      2450   \n",
       "3          2016-04-18                   743                      2502   \n",
       "4          2016-04-17                   925                      3080   \n",
       "\n",
       "   Non Subscription Order Count  Subscription Customer Count  \\\n",
       "0                           507                          239   \n",
       "1                           485                          225   \n",
       "2                           500                          196   \n",
       "3                           527                          192   \n",
       "4                           488                          217   \n",
       "\n",
       "   Non Subscription Customer Count  Fall  Spring  Winter  Holiday  \\\n",
       "0                              240     0       1       0        0   \n",
       "1                              210     0       1       0        0   \n",
       "2                              231     0       1       0        0   \n",
       "3                              240     0       1       0        0   \n",
       "4                              209     0       1       0        0   \n",
       "\n",
       "   Not Holiday  Weekday  \n",
       "0            1  Weekday  \n",
       "1            1  Weekday  \n",
       "2            1  Weekday  \n",
       "3            1  Weekday  \n",
       "4            1  Weekend  "
      ]
     },
     "execution_count": 10,
     "metadata": {},
     "output_type": "execute_result"
    }
   ],
   "source": [
    "# check weekday vs weekend\n",
    "df[\"Weekday\"] = np.where(pd.DatetimeIndex(df[\"Ticket Created Date\"]).weekday < 5, \"Weekday\", \"Weekend\")\n",
    "df.head()"
   ]
  },
  {
   "cell_type": "code",
   "execution_count": 11,
   "metadata": {},
   "outputs": [],
   "source": [
    "one_hot = pd.get_dummies(df[\"Weekday\"])\n",
    "df = df.drop(\"Weekday\", axis=1)\n",
    "df = df.join(one_hot)"
   ]
  },
  {
   "cell_type": "code",
   "execution_count": 12,
   "metadata": {},
   "outputs": [
    {
     "data": {
      "text/plain": [
       "<matplotlib.axes._subplots.AxesSubplot at 0x2befc0fd4e0>"
      ]
     },
     "execution_count": 12,
     "metadata": {},
     "output_type": "execute_result"
    },
    {
     "data": {
      "image/png": "[encoded data removed]",
      "text/plain": [
       "<Figure size 432x288 with 2 Axes>"
      ]
     },
     "metadata": {},
     "output_type": "display_data"
    }
   ],
   "source": [
    "# check for correlation\n",
    "sns.heatmap(df.corr(), vmax=0.8)"
   ]
  },
  {
   "cell_type": "code",
   "execution_count": 13,
   "metadata": {},
   "outputs": [
    {
     "data": {
      "text/html": [
       "<div>\n",
       "<style scoped>\n",
       "    .dataframe tbody tr th:only-of-type {\n",
       "        vertical-align: middle;\n",
       "    }\n",
       "\n",
       "    .dataframe tbody tr th {\n",
       "        vertical-align: top;\n",
       "    }\n",
       "\n",
       "    .dataframe thead th {\n",
       "        text-align: right;\n",
       "    }\n",
       "</style>\n",
       "<table border=\"1\" class=\"dataframe\">\n",
       "  <thead>\n",
       "    <tr style=\"text-align: right;\">\n",
       "      <th></th>\n",
       "      <th>Ticket Created Date</th>\n",
       "      <th>Total Tickets Opened</th>\n",
       "      <th>Subscription Order Count</th>\n",
       "      <th>Non Subscription Order Count</th>\n",
       "      <th>Subscription Customer Count</th>\n",
       "      <th>Non Subscription Customer Count</th>\n",
       "      <th>Fall</th>\n",
       "      <th>Spring</th>\n",
       "      <th>Winter</th>\n",
       "      <th>Holiday</th>\n",
       "      <th>Not Holiday</th>\n",
       "      <th>Weekday</th>\n",
       "      <th>Weekend</th>\n",
       "    </tr>\n",
       "  </thead>\n",
       "  <tbody>\n",
       "    <tr>\n",
       "      <th>0</th>\n",
       "      <td>2016-04-21</td>\n",
       "      <td>533</td>\n",
       "      <td>984</td>\n",
       "      <td>507</td>\n",
       "      <td>239</td>\n",
       "      <td>240</td>\n",
       "      <td>0</td>\n",
       "      <td>1</td>\n",
       "      <td>0</td>\n",
       "      <td>0</td>\n",
       "      <td>1</td>\n",
       "      <td>1</td>\n",
       "      <td>0</td>\n",
       "    </tr>\n",
       "    <tr>\n",
       "      <th>1</th>\n",
       "      <td>2016-04-20</td>\n",
       "      <td>658</td>\n",
       "      <td>6035</td>\n",
       "      <td>485</td>\n",
       "      <td>225</td>\n",
       "      <td>210</td>\n",
       "      <td>0</td>\n",
       "      <td>1</td>\n",
       "      <td>0</td>\n",
       "      <td>0</td>\n",
       "      <td>1</td>\n",
       "      <td>1</td>\n",
       "      <td>0</td>\n",
       "    </tr>\n",
       "    <tr>\n",
       "      <th>2</th>\n",
       "      <td>2016-04-19</td>\n",
       "      <td>778</td>\n",
       "      <td>2450</td>\n",
       "      <td>500</td>\n",
       "      <td>196</td>\n",
       "      <td>231</td>\n",
       "      <td>0</td>\n",
       "      <td>1</td>\n",
       "      <td>0</td>\n",
       "      <td>0</td>\n",
       "      <td>1</td>\n",
       "      <td>1</td>\n",
       "      <td>0</td>\n",
       "    </tr>\n",
       "    <tr>\n",
       "      <th>3</th>\n",
       "      <td>2016-04-18</td>\n",
       "      <td>743</td>\n",
       "      <td>2502</td>\n",
       "      <td>527</td>\n",
       "      <td>192</td>\n",
       "      <td>240</td>\n",
       "      <td>0</td>\n",
       "      <td>1</td>\n",
       "      <td>0</td>\n",
       "      <td>0</td>\n",
       "      <td>1</td>\n",
       "      <td>1</td>\n",
       "      <td>0</td>\n",
       "    </tr>\n",
       "    <tr>\n",
       "      <th>4</th>\n",
       "      <td>2016-04-17</td>\n",
       "      <td>925</td>\n",
       "      <td>3080</td>\n",
       "      <td>488</td>\n",
       "      <td>217</td>\n",
       "      <td>209</td>\n",
       "      <td>0</td>\n",
       "      <td>1</td>\n",
       "      <td>0</td>\n",
       "      <td>0</td>\n",
       "      <td>1</td>\n",
       "      <td>0</td>\n",
       "      <td>1</td>\n",
       "    </tr>\n",
       "  </tbody>\n",
       "</table>\n",
       "</div>"
      ],
      "text/plain": [
       "  Ticket Created Date  Total Tickets Opened  Subscription Order Count  \\\n",
       "0          2016-04-21                   533                       984   \n",
       "1          2016-04-20                   658                      6035   \n",
       "2          2016-04-19                   778                      2450   \n",
       "3          2016-04-18                   743                      2502   \n",
       "4          2016-04-17                   925                      3080   \n",
       "\n",
       "   Non Subscription Order Count  Subscription Customer Count  \\\n",
       "0                           507                          239   \n",
       "1                           485                          225   \n",
       "2                           500                          196   \n",
       "3                           527                          192   \n",
       "4                           488                          217   \n",
       "\n",
       "   Non Subscription Customer Count  Fall  Spring  Winter  Holiday  \\\n",
       "0                              240     0       1       0        0   \n",
       "1                              210     0       1       0        0   \n",
       "2                              231     0       1       0        0   \n",
       "3                              240     0       1       0        0   \n",
       "4                              209     0       1       0        0   \n",
       "\n",
       "   Not Holiday  Weekday  Weekend  \n",
       "0            1        1        0  \n",
       "1            1        1        0  \n",
       "2            1        1        0  \n",
       "3            1        1        0  \n",
       "4            1        0        1  "
      ]
     },
     "execution_count": 13,
     "metadata": {},
     "output_type": "execute_result"
    }
   ],
   "source": [
    "df.head()"
   ]
  },
  {
   "cell_type": "code",
   "execution_count": 14,
   "metadata": {},
   "outputs": [
    {
     "name": "stdout",
     "output_type": "stream",
     "text": [
      "\n",
      "Coefficients: \n",
      " [ 4.69198286e-02  2.85600120e-01  3.47946820e-03 -1.56994179e-01\n",
      "  9.95913501e+01 -7.79436055e+01 -2.16477446e+01 -1.71464427e+01\n",
      "  1.71464427e+01 -1.12980727e+02  1.12980727e+02]\n",
      "\n",
      "Intercept: \n",
      " 551.1252942772517\n",
      "\n",
      "R-squared:\n",
      " 0.5197874818118686\n"
     ]
    }
   ],
   "source": [
    "# original algorithm without any reduction\n",
    "rgr = LinearRegression()\n",
    "Y = df[\"Total Tickets Opened\"]\n",
    "X = df.iloc[:, 2:]\n",
    "rgr.fit(X, Y)\n",
    "\n",
    "print('\\nCoefficients: \\n', rgr.coef_)\n",
    "print('\\nIntercept: \\n', rgr.intercept_)\n",
    "print('\\nR-squared:\\n', rgr.score(X, Y))"
   ]
  },
  {
   "cell_type": "markdown",
   "metadata": {},
   "source": [
    "## Total Tickets Opened = .05(Subscription Order Count) + 0.29(Non Subscription Order Count) - 0.35(Subscription Customer Count) - 0.16(Non Subscription Customer Count) + 99.59(Fall) - 77.94(Spring) - 21.65(Winter) - 17.15(Holiday) + 17.15(Not Holiday) - 112.98(Weekday) + 112.98(Weekend) + 551.12"
   ]
  },
  {
   "cell_type": "code",
   "execution_count": 20,
   "metadata": {},
   "outputs": [
    {
     "name": "stdout",
     "output_type": "stream",
     "text": [
      "\n",
      "Coefficients: \n",
      " [ 4.91398822e-02  3.64324091e-01  9.40159602e+01 -7.73809200e+01\n",
      " -1.66350403e+01 -4.76290749e+01 -2.32620819e+02]\n",
      "\n",
      "Intercept: \n",
      " 709.3763537528089\n",
      "\n",
      "R-squared:\n",
      " 0.5118375075363295\n"
     ]
    }
   ],
   "source": [
    "# try to simplify equation based on correlation heatmap; keeping all seasons\n",
    "X = df[[\"Subscription Order Count\", \"Non Subscription Customer Count\", \"Fall\", \"Spring\", \"Winter\", \"Holiday\", \"Weekday\"]]\n",
    "rgr.fit(X, Y)\n",
    "\n",
    "print('\\nCoefficients: \\n', rgr.coef_)\n",
    "print('\\nIntercept: \\n', rgr.intercept_)\n",
    "print('\\nR-squared:\\n', rgr.score(X, Y))"
   ]
  },
  {
   "cell_type": "markdown",
   "metadata": {},
   "source": [
    "## Total Tickets Opened = 0.05(Subscription Order Count) + 0.36(Non Subscription Customer Count) + 94.02(Fall) - 77.38(Spring) - 16.63(Winter) - 47.63(Holiday) - 232.62(Weekday) + 709.38"
   ]
  },
  {
   "cell_type": "code",
   "execution_count": 21,
   "metadata": {},
   "outputs": [
    {
     "name": "stdout",
     "output_type": "stream",
     "text": [
      "\n",
      "Coefficients: \n",
      " [ 4.91398822e-02  3.64324091e-01  1.71396880e+02  6.07458797e+01\n",
      " -4.76290749e+01 -2.32620819e+02]\n",
      "\n",
      "Intercept: \n",
      " 631.9954337972763\n",
      "\n",
      "R-squared:\n",
      " 0.5118375075363295\n"
     ]
    }
   ],
   "source": [
    "# further simplification, although because dataset doesn't include any \"Summer\", may have adverse effects with inclusion of summer data\n",
    "X = df[[\"Subscription Order Count\", \"Non Subscription Customer Count\", \"Fall\", \"Winter\", \"Holiday\", \"Weekday\"]]\n",
    "rgr.fit(X, Y)\n",
    "\n",
    "print('\\nCoefficients: \\n', rgr.coef_)\n",
    "print('\\nIntercept: \\n', rgr.intercept_)\n",
    "print('\\nR-squared:\\n', rgr.score(X, Y))"
   ]
  },
  {
   "cell_type": "markdown",
   "metadata": {},
   "source": [
    "## Total Tickets Opened = 0.05(Subscription Order Count) + 0.36(Non Subscription Customer Count) + 171.40(Fall) + 60.75(Winter) - 47.63(Holiday) - 232.62(Weekday) + 631.99"
   ]
  }
 ],
 "metadata": {
  "kernelspec": {
   "display_name": "Python 3",
   "language": "python",
   "name": "python3"
  },
  "language_info": {
   "codemirror_mode": {
    "name": "ipython",
    "version": 3
   },
   "file_extension": ".py",
   "mimetype": "text/x-python",
   "name": "python",
   "nbconvert_exporter": "python",
   "pygments_lexer": "ipython3",
   "version": "3.6.5"
  }
 },
 "nbformat": 4,
 "nbformat_minor": 2
}
